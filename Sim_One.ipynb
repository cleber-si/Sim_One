{
  "nbformat": 4,
  "nbformat_minor": 0,
  "metadata": {
    "colab": {
      "name": "Sim_One.ipynb",
      "provenance": []
    },
    "kernelspec": {
      "name": "python3",
      "display_name": "Python 3"
    },
    "language_info": {
      "name": "python"
    }
  },
  "cells": [
    {
      "cell_type": "markdown",
      "source": [
        "#Primeiro simulador de trânsito planetário da disciplina de Astrofísica Observacional"
      ],
      "metadata": {
        "id": "62KafYGLHF4L"
      }
    },
    {
      "cell_type": "markdown",
      "source": [
        "#Carrega Bibliotecas"
      ],
      "metadata": {
        "id": "4qZV4fsEHSi9"
      }
    },
    {
      "cell_type": "code",
      "execution_count": 2,
      "metadata": {
        "id": "WYVHEZykG7Sm"
      },
      "outputs": [],
      "source": [
        "import numpy as np"
      ]
    },
    {
      "cell_type": "markdown",
      "source": [
        "#Execussão"
      ],
      "metadata": {
        "id": "NChESjUeHX0b"
      }
    },
    {
      "cell_type": "code",
      "source": [
        "''' Variables Declaration '''\n",
        "# Fundamental constants\n",
        "G = 6.6738 * 10**(-11)                                        # Gravitational constant (m^3 * kg^2 * s^(-2))\n",
        "OneSec = 1.15741 * 10**(-5)                                   # One second in days\n",
        "Gday = G/(OneSec**2)                                          # G constant in days\n",
        "\n",
        "# Solar parameters\n",
        "M_sun = 1.989 * 10**30                                        # Sun's mass in kg\n",
        "R_sun = 6.957 * 10**8                                         # Planet's radius in m\n",
        "\n",
        "# Input Parameters\n",
        "R_star = R_sun                                                # Stellar radius in solar units\n",
        "R_planet = 0.1 * (R_star/R_sun)                               # Fraction of solar radius (Earth radius = 0.00915 R_sun)\n",
        "depth = (R_planet/R_star)**2                                  # Transit depth\n",
        "P_orb = 5                                                     # Orbital period in days\n",
        "ai = 90                                                       # Inclination angle of star (ranged over 0 and 90 degrees)\n",
        "cadence = 0.020833                                            # Cadence in days (Kepler mission)\n",
        "aa = ((Gday*M_sun/4/np.pi**2)*P_orb**2) ** (1/3)              # Major semi-axis (in m)\n",
        "b = (aa/R_star) * np.cos(ai*np.pi/180)                        # Impact parameter (in a/R_star)"
      ],
      "metadata": {
        "id": "nUe-48KVHXGm"
      },
      "execution_count": 60,
      "outputs": []
    },
    {
      "cell_type": "code",
      "source": [
        "# Total time\n",
        "part1 = R_star/aa\n",
        "part2 = np.sqrt(((1 + R_planet/R_star)**2) - (b**2))\n",
        "part3 = np.sqrt(((1 - R_planet/R_star)**2) - (b**2))\n",
        "\n",
        "tTotal = (P_orb/np.pi) * (part1*part2) #np.arcsin(part1/(np.sin(ai))) * (part2**(1/2))\n",
        "tF = (P_orb/np.pi) * (part1*part3)"
      ],
      "metadata": {
        "id": "EPC43GE4Nm5v"
      },
      "execution_count": 61,
      "outputs": []
    },
    {
      "cell_type": "code",
      "source": [
        "tT_h = tTotal * 24"
      ],
      "metadata": {
        "id": "VqUKDhnZTMI1"
      },
      "execution_count": 37,
      "outputs": []
    },
    {
      "cell_type": "code",
      "source": [
        "_sin = (R_star/aa) * (part2/(1-(np.cos(ai*np.pi/180)**2)))**(1/2)\n",
        "k = P_orb/np.pi\n",
        "tF = (P_orb/np.pi)*np.arcsin(_sin)"
      ],
      "metadata": {
        "id": "_zuqfDGUZWB5"
      },
      "execution_count": 56,
      "outputs": []
    }
  ]
}